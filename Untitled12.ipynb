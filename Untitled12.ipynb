{
  "nbformat": 4,
  "nbformat_minor": 0,
  "metadata": {
    "colab": {
      "provenance": [],
      "authorship_tag": "ABX9TyPCFi8jD4ljBY1LkAC+gEeW",
      "include_colab_link": true
    },
    "kernelspec": {
      "name": "python3",
      "display_name": "Python 3"
    },
    "language_info": {
      "name": "python"
    }
  },
  "cells": [
    {
      "cell_type": "markdown",
      "metadata": {
        "id": "view-in-github",
        "colab_type": "text"
      },
      "source": [
        "<a href=\"https://colab.research.google.com/github/irythmgarg/bow_tie_maker_python_mini_project/blob/main/Untitled12.ipynb\" target=\"_parent\"><img src=\"https://colab.research.google.com/assets/colab-badge.svg\" alt=\"Open In Colab\"/></a>"
      ]
    },
    {
      "cell_type": "markdown",
      "source": [],
      "metadata": {
        "id": "btF84Z4zYG1a"
      }
    },
    {
      "cell_type": "code",
      "execution_count": null,
      "metadata": {
        "id": "SsvB1YlVUxD5"
      },
      "outputs": [],
      "source": [
        "#Let's draw a bow-tie with Python! We set the width of one side of a bow-tie. Then we can draw it with for loops.\n",
        "\n",
        "width=int(input(\"eneter the width of a side of the bow-tie\"));# ask user to enter width of bow tie\n",
        "p=width;\n",
        "for i in range(width+1):\n",
        "  for j in range(i):\n",
        "   print(\"*\", end='');\n",
        "  for k in range(2*p-2*i):\n",
        "   print(\" \", end='');\n",
        "  for j in range(i):\n",
        "   print(\"*\", end='');\n",
        "  print();\n",
        "for i in range(width-1,0,-1):\n",
        "  for j in range(i):\n",
        "   print(\"*\", end='');\n",
        "  for k in range(2*p-2*i):\n",
        "   print(\" \", end='');\n",
        "  for j in range(i):\n",
        "   print(\"*\", end='');\n",
        "  print();"
      ]
    }
  ]
}